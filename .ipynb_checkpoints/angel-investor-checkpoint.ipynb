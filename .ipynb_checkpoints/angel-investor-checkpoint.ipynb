{
 "cells": [
  {
   "cell_type": "markdown",
   "id": "681daf16",
   "metadata": {},
   "source": [
    "## Downloading Start-Up Data"
   ]
  },
  {
   "cell_type": "code",
   "execution_count": 9,
   "id": "aa4577f2",
   "metadata": {},
   "outputs": [
    {
     "name": "stdout",
     "output_type": "stream",
     "text": [
      "  % Total    % Received % Xferd  Average Speed   Time    Time     Time  Current\n",
      "                                 Dload  Upload   Total   Spent    Left  Speed\n",
      "100 48.6M  100 48.6M    0     0  30.5M      0  0:00:01  0:00:01 --:--:-- 30.5M\n"
     ]
    }
   ],
   "source": [
    "! curl -0 https://public.tableau.com/s/sites/default/files/media/Resources/crunchbase_monthly_export_d43b4klo2ade53.xlsx > data/startup.xlsx\n"
   ]
  }
 ],
 "metadata": {
  "kernelspec": {
   "display_name": "conda_python3",
   "language": "python",
   "name": "conda_python3"
  },
  "language_info": {
   "codemirror_mode": {
    "name": "ipython",
    "version": 3
   },
   "file_extension": ".py",
   "mimetype": "text/x-python",
   "name": "python",
   "nbconvert_exporter": "python",
   "pygments_lexer": "ipython3",
   "version": "3.6.13"
  }
 },
 "nbformat": 4,
 "nbformat_minor": 5
}
